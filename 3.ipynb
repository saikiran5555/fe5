{
 "cells": [
  {
   "cell_type": "markdown",
   "id": "ceaff6ce",
   "metadata": {},
   "source": [
    "To calculate the Pearson correlation coefficient and Spearman's rank correlation for your study examining the relationship between the number of hours of exercise per week and BMI in a sample of 50 participants, you would need the specific data points for these two variables. However, I can guide you through the general process for both calculations and explain how to compare the results. If you have the data, you can apply these steps:\n",
    "\n",
    "Calculating Pearson Correlation Coefficient\n",
    "The Pearson correlation coefficient measures the linear relationship between two continuous variables.\n",
    "\n",
    "Data: Assume you have two arrays/lists, hours_of_exercise and BMI, each with 50 data points.\n",
    "\n",
    "Calculation: Use a statistical software or programming language (like Python) to calculate the Pearson correlation:"
   ]
  },
  {
   "cell_type": "code",
   "execution_count": null,
   "id": "091830a7",
   "metadata": {},
   "outputs": [],
   "source": [
    "import numpy as np\n",
    "\n",
    "# Replace with your actual data\n",
    "hours_of_exercise = [...]  # Array of hours of exercise\n",
    "BMI = [...]                # Array of BMI values\n",
    "\n",
    "pearson_corr = np.corrcoef(hours_of_exercise, BMI)[0, 1]\n"
   ]
  },
  {
   "cell_type": "markdown",
   "id": "079e5eb9",
   "metadata": {},
   "source": [
    "Calculating Spearman's Rank Correlation\n",
    "Spearman's rank correlation assesses how well the relationship between two variables can be described using a monotonic function. It's used when the data is not normally distributed or the relationship is not linear.\n",
    "\n",
    "Data: Same as for Pearson's, use hours_of_exercise and BMI.\n",
    "\n",
    "Calculation:"
   ]
  },
  {
   "cell_type": "code",
   "execution_count": null,
   "id": "b8b48f10",
   "metadata": {},
   "outputs": [],
   "source": [
    "import scipy.stats\n",
    "\n",
    "spearman_corr, _ = scipy.stats.spearmanr(hours_of_exercise, BMI)\n"
   ]
  },
  {
   "cell_type": "markdown",
   "id": "28252d57",
   "metadata": {},
   "source": [
    "Comparing Results\n",
    "Pearson's Correlation: Assumes that the relationship between the variables is linear and that the variables are roughly normally distributed. A high absolute value indicates a strong linear relationship.\n",
    "\n",
    "Spearman's Correlation: Does not assume a linear relationship and can be more appropriate for non-normally distributed data or ordinal data. It evaluates monotonic relationships (whether linear or not).\n",
    "\n",
    "Interpretation:\n",
    "\n",
    "If both Pearson and Spearman correlations are similar in value and significance, the relationship is likely linear and the data distribution does not violate the assumptions of Pearson’s correlation.\n",
    "If the Spearman correlation is significantly higher (in absolute value) than the Pearson correlation, the relationship might be monotonic but not linear, or the data might not be normally distributed."
   ]
  }
 ],
 "metadata": {
  "kernelspec": {
   "display_name": "Python 3 (ipykernel)",
   "language": "python",
   "name": "python3"
  },
  "language_info": {
   "codemirror_mode": {
    "name": "ipython",
    "version": 3
   },
   "file_extension": ".py",
   "mimetype": "text/x-python",
   "name": "python",
   "nbconvert_exporter": "python",
   "pygments_lexer": "ipython3",
   "version": "3.10.9"
  }
 },
 "nbformat": 4,
 "nbformat_minor": 5
}
