{
 "cells": [
  {
   "cell_type": "markdown",
   "id": "846fd278",
   "metadata": {},
   "source": [
    "To calculate the Pearson correlation coefficient between the number of hours individuals spend watching television per day and their level of physical activity, you'll need the specific data points from the sample of 50 participants. The Pearson correlation coefficient measures the linear relationship between two continuous variables. It ranges from -1 to +1, where +1 indicates a perfect positive linear relationship, -1 indicates a perfect negative linear relationship, and 0 indicates no linear relationship.\n",
    "\n",
    "If you have the data, you can use Python and its libraries like numpy or pandas along with scipy to calculate this. Here’s a template for how you would do it:"
   ]
  },
  {
   "cell_type": "code",
   "execution_count": null,
   "id": "780017a7",
   "metadata": {},
   "outputs": [],
   "source": [
    "import numpy as np\n",
    "from scipy.stats import pearsonr\n",
    "import pandas as pd\n",
    "\n",
    "# Sample data (replace these with your actual data)\n",
    "# Example: hours spent watching TV\n",
    "tv_hours = np.array([2, 3, 4, 1, 2, 5, 3, 4, 2, 1, ...])  # should contain 50 values\n",
    "# Example: level of physical activity (could be hours spent exercising per week or a similar metric)\n",
    "physical_activity = np.array([5, 3, 2, 6, 5, 1, 4, 2, 5, 6, ...])  # should contain 50 values\n",
    "\n",
    "# Calculate Pearson correlation coefficient\n",
    "corr, p_value = pearsonr(tv_hours, physical_activity)\n",
    "\n",
    "print(f\"Pearson correlation coefficient: {corr:.2f}\")\n",
    "print(f\"P-value: {p_value:.2f}\")\n",
    "\n",
    "# Interpretation of the result\n",
    "if p_value < 0.05:\n",
    "    print(\"The correlation is statistically significant.\")\n",
    "else:\n",
    "    print(\"The correlation is not statistically significant.\")\n"
   ]
  },
  {
   "cell_type": "markdown",
   "id": "787c09f9",
   "metadata": {},
   "source": [
    "Interpreting the Result:\n",
    "\n",
    "The Pearson correlation coefficient (corr) close to +1 or -1 suggests a strong relationship, while a coefficient close to 0 suggests a weak relationship.\n",
    "The p_value helps in understanding the statistical significance of the correlation. A p-value less than 0.05 usually indicates that the correlation is statistically significant."
   ]
  }
 ],
 "metadata": {
  "kernelspec": {
   "display_name": "Python 3 (ipykernel)",
   "language": "python",
   "name": "python3"
  },
  "language_info": {
   "codemirror_mode": {
    "name": "ipython",
    "version": 3
   },
   "file_extension": ".py",
   "mimetype": "text/x-python",
   "name": "python",
   "nbconvert_exporter": "python",
   "pygments_lexer": "ipython3",
   "version": "3.10.9"
  }
 },
 "nbformat": 4,
 "nbformat_minor": 5
}
